{
 "cells": [
  {
   "cell_type": "code",
   "execution_count": 1,
   "id": "1505d1f6",
   "metadata": {},
   "outputs": [],
   "source": [
    "# This Python 3 environment comes with many helpful analytics libraries installed\n",
    "# It is defined by the kaggle/python Docker image: https://github.com/kaggle/docker-python\n",
    "# For example, here's several helpful packages to load\n",
    "\n",
    "import numpy as np # linear algebra\n",
    "import pandas as pd # data processing, CSV file I/O (e.g. pd.read_csv)\n",
    "\n",
    "# Input data files are available in the read-only \"../input/\" directory\n",
    "# For example, running this (by clicking run or pressing Shift+Enter) will list all files under the input directory\n",
    "\n",
    "import os\n",
    "for dirname, _, filenames in os.walk('/kaggle/input'):\n",
    "    for filename in filenames:\n",
    "        print(os.path.join(dirname, filename))\n",
    "\n",
    "# You can write up to 20GB to the current directory (/kaggle/working/) that gets preserved as output when you create a version using \"Save & Run All\" \n",
    "# You can also write temporary files to /kaggle/temp/, but they won't be saved outside of the current session"
   ]
  },
  {
   "cell_type": "code",
   "execution_count": 59,
   "id": "86fc7620",
   "metadata": {},
   "outputs": [],
   "source": [
    "import pandas as pd\n",
    "import numpy as np\n",
    "import matplotlib.pyplot as plt\n",
    "import matplotlib.pyplot as plt\n",
    "import seaborn as sns\n",
    "from sklearn.preprocessing import StandardScaler\n",
    "from sklearn.linear_model import LogisticRegression\n",
    "from sklearn.model_selection import train_test_split\n",
    "from sklearn.linear_model import LinearRegression\n",
    "from sklearn.model_selection import cross_val_score\n",
    "from sklearn.metrics import mean_squared_error\n",
    "import statsmodels.api as sm\n",
    "from sklearn.neighbors import KNeighborsRegressor\n",
    "from sklearn.ensemble import RandomForestClassifier\n",
    "from sklearn.tree import DecisionTreeClassifier\n",
    "\n"
   ]
  },
  {
   "cell_type": "code",
   "execution_count": 3,
   "id": "6eb20623",
   "metadata": {},
   "outputs": [
    {
     "data": {
      "text/html": [
       "<div>\n",
       "<style scoped>\n",
       "    .dataframe tbody tr th:only-of-type {\n",
       "        vertical-align: middle;\n",
       "    }\n",
       "\n",
       "    .dataframe tbody tr th {\n",
       "        vertical-align: top;\n",
       "    }\n",
       "\n",
       "    .dataframe thead th {\n",
       "        text-align: right;\n",
       "    }\n",
       "</style>\n",
       "<table border=\"1\" class=\"dataframe\">\n",
       "  <thead>\n",
       "    <tr style=\"text-align: right;\">\n",
       "      <th></th>\n",
       "      <th>ID</th>\n",
       "      <th>1</th>\n",
       "      <th>Calories Burn</th>\n",
       "      <th>Dream Weight</th>\n",
       "      <th>Actual Weight</th>\n",
       "      <th>Age</th>\n",
       "      <th>Gender</th>\n",
       "      <th>Duration</th>\n",
       "      <th>Heart Rate</th>\n",
       "      <th>BMI</th>\n",
       "      <th>Weather Conditions</th>\n",
       "      <th>1 Intensity</th>\n",
       "    </tr>\n",
       "  </thead>\n",
       "  <tbody>\n",
       "    <tr>\n",
       "      <th>0</th>\n",
       "      <td>1</td>\n",
       "      <td>1 2</td>\n",
       "      <td>286.959851</td>\n",
       "      <td>91.892531</td>\n",
       "      <td>96.301115</td>\n",
       "      <td>45</td>\n",
       "      <td>Male</td>\n",
       "      <td>37</td>\n",
       "      <td>170</td>\n",
       "      <td>29.426275</td>\n",
       "      <td>Rainy</td>\n",
       "      <td>5</td>\n",
       "    </tr>\n",
       "    <tr>\n",
       "      <th>1</th>\n",
       "      <td>2</td>\n",
       "      <td>1 7</td>\n",
       "      <td>343.453036</td>\n",
       "      <td>64.165097</td>\n",
       "      <td>61.104668</td>\n",
       "      <td>25</td>\n",
       "      <td>Male</td>\n",
       "      <td>43</td>\n",
       "      <td>142</td>\n",
       "      <td>21.286346</td>\n",
       "      <td>Rainy</td>\n",
       "      <td>5</td>\n",
       "    </tr>\n",
       "    <tr>\n",
       "      <th>2</th>\n",
       "      <td>3</td>\n",
       "      <td>1 4</td>\n",
       "      <td>261.223465</td>\n",
       "      <td>70.846224</td>\n",
       "      <td>71.766724</td>\n",
       "      <td>20</td>\n",
       "      <td>Male</td>\n",
       "      <td>20</td>\n",
       "      <td>148</td>\n",
       "      <td>27.899592</td>\n",
       "      <td>Cloudy</td>\n",
       "      <td>4</td>\n",
       "    </tr>\n",
       "    <tr>\n",
       "      <th>3</th>\n",
       "      <td>4</td>\n",
       "      <td>1 5</td>\n",
       "      <td>127.183858</td>\n",
       "      <td>79.477008</td>\n",
       "      <td>82.984456</td>\n",
       "      <td>33</td>\n",
       "      <td>Male</td>\n",
       "      <td>39</td>\n",
       "      <td>170</td>\n",
       "      <td>33.729552</td>\n",
       "      <td>Sunny</td>\n",
       "      <td>10</td>\n",
       "    </tr>\n",
       "    <tr>\n",
       "      <th>4</th>\n",
       "      <td>5</td>\n",
       "      <td>1 10</td>\n",
       "      <td>416.318374</td>\n",
       "      <td>89.960226</td>\n",
       "      <td>85.643174</td>\n",
       "      <td>29</td>\n",
       "      <td>Female</td>\n",
       "      <td>34</td>\n",
       "      <td>118</td>\n",
       "      <td>23.286113</td>\n",
       "      <td>Cloudy</td>\n",
       "      <td>3</td>\n",
       "    </tr>\n",
       "    <tr>\n",
       "      <th>...</th>\n",
       "      <td>...</td>\n",
       "      <td>...</td>\n",
       "      <td>...</td>\n",
       "      <td>...</td>\n",
       "      <td>...</td>\n",
       "      <td>...</td>\n",
       "      <td>...</td>\n",
       "      <td>...</td>\n",
       "      <td>...</td>\n",
       "      <td>...</td>\n",
       "      <td>...</td>\n",
       "      <td>...</td>\n",
       "    </tr>\n",
       "    <tr>\n",
       "      <th>3859</th>\n",
       "      <td>3860</td>\n",
       "      <td>1 5</td>\n",
       "      <td>154.113144</td>\n",
       "      <td>98.147291</td>\n",
       "      <td>96.745133</td>\n",
       "      <td>20</td>\n",
       "      <td>Female</td>\n",
       "      <td>22</td>\n",
       "      <td>139</td>\n",
       "      <td>32.447764</td>\n",
       "      <td>Cloudy</td>\n",
       "      <td>7</td>\n",
       "    </tr>\n",
       "    <tr>\n",
       "      <th>3860</th>\n",
       "      <td>3861</td>\n",
       "      <td>1 4</td>\n",
       "      <td>486.392768</td>\n",
       "      <td>97.598957</td>\n",
       "      <td>92.700573</td>\n",
       "      <td>21</td>\n",
       "      <td>Female</td>\n",
       "      <td>49</td>\n",
       "      <td>160</td>\n",
       "      <td>26.602475</td>\n",
       "      <td>Rainy</td>\n",
       "      <td>5</td>\n",
       "    </tr>\n",
       "    <tr>\n",
       "      <th>3861</th>\n",
       "      <td>3862</td>\n",
       "      <td>1 4</td>\n",
       "      <td>264.307731</td>\n",
       "      <td>94.946612</td>\n",
       "      <td>96.778936</td>\n",
       "      <td>57</td>\n",
       "      <td>Male</td>\n",
       "      <td>56</td>\n",
       "      <td>167</td>\n",
       "      <td>31.435348</td>\n",
       "      <td>Rainy</td>\n",
       "      <td>9</td>\n",
       "    </tr>\n",
       "    <tr>\n",
       "      <th>3862</th>\n",
       "      <td>3863</td>\n",
       "      <td>1 9</td>\n",
       "      <td>185.951870</td>\n",
       "      <td>64.743906</td>\n",
       "      <td>68.662889</td>\n",
       "      <td>58</td>\n",
       "      <td>Female</td>\n",
       "      <td>60</td>\n",
       "      <td>128</td>\n",
       "      <td>19.774614</td>\n",
       "      <td>Rainy</td>\n",
       "      <td>1</td>\n",
       "    </tr>\n",
       "    <tr>\n",
       "      <th>3863</th>\n",
       "      <td>3864</td>\n",
       "      <td>1 7</td>\n",
       "      <td>116.360417</td>\n",
       "      <td>56.757424</td>\n",
       "      <td>59.833403</td>\n",
       "      <td>35</td>\n",
       "      <td>Male</td>\n",
       "      <td>22</td>\n",
       "      <td>134</td>\n",
       "      <td>29.581330</td>\n",
       "      <td>Rainy</td>\n",
       "      <td>1</td>\n",
       "    </tr>\n",
       "  </tbody>\n",
       "</table>\n",
       "<p>3864 rows × 12 columns</p>\n",
       "</div>"
      ],
      "text/plain": [
       "        ID     1  Calories Burn  Dream Weight  Actual Weight  Age  Gender  \\\n",
       "0        1   1 2     286.959851     91.892531      96.301115   45    Male   \n",
       "1        2   1 7     343.453036     64.165097      61.104668   25    Male   \n",
       "2        3   1 4     261.223465     70.846224      71.766724   20    Male   \n",
       "3        4   1 5     127.183858     79.477008      82.984456   33    Male   \n",
       "4        5  1 10     416.318374     89.960226      85.643174   29  Female   \n",
       "...    ...   ...            ...           ...            ...  ...     ...   \n",
       "3859  3860   1 5     154.113144     98.147291      96.745133   20  Female   \n",
       "3860  3861   1 4     486.392768     97.598957      92.700573   21  Female   \n",
       "3861  3862   1 4     264.307731     94.946612      96.778936   57    Male   \n",
       "3862  3863   1 9     185.951870     64.743906      68.662889   58  Female   \n",
       "3863  3864   1 7     116.360417     56.757424      59.833403   35    Male   \n",
       "\n",
       "      Duration  Heart Rate        BMI Weather Conditions  1 Intensity  \n",
       "0           37         170  29.426275              Rainy            5  \n",
       "1           43         142  21.286346              Rainy            5  \n",
       "2           20         148  27.899592             Cloudy            4  \n",
       "3           39         170  33.729552              Sunny           10  \n",
       "4           34         118  23.286113             Cloudy            3  \n",
       "...        ...         ...        ...                ...          ...  \n",
       "3859        22         139  32.447764             Cloudy            7  \n",
       "3860        49         160  26.602475              Rainy            5  \n",
       "3861        56         167  31.435348              Rainy            9  \n",
       "3862        60         128  19.774614              Rainy            1  \n",
       "3863        22         134  29.581330              Rainy            1  \n",
       "\n",
       "[3864 rows x 12 columns]"
      ]
     },
     "execution_count": 3,
     "metadata": {},
     "output_type": "execute_result"
    }
   ],
   "source": [
    "df = pd.read_csv('exercisedataset.csv')\n",
    "df"
   ]
  },
  {
   "cell_type": "code",
   "execution_count": 4,
   "id": "2420ff10",
   "metadata": {},
   "outputs": [
    {
     "data": {
      "text/html": [
       "<div>\n",
       "<style scoped>\n",
       "    .dataframe tbody tr th:only-of-type {\n",
       "        vertical-align: middle;\n",
       "    }\n",
       "\n",
       "    .dataframe tbody tr th {\n",
       "        vertical-align: top;\n",
       "    }\n",
       "\n",
       "    .dataframe thead th {\n",
       "        text-align: right;\n",
       "    }\n",
       "</style>\n",
       "<table border=\"1\" class=\"dataframe\">\n",
       "  <thead>\n",
       "    <tr style=\"text-align: right;\">\n",
       "      <th></th>\n",
       "      <th>ID</th>\n",
       "      <th>1</th>\n",
       "      <th>Calories Burn</th>\n",
       "      <th>Dream Weight</th>\n",
       "      <th>Actual Weight</th>\n",
       "      <th>Age</th>\n",
       "      <th>Gender</th>\n",
       "      <th>Duration</th>\n",
       "      <th>Heart Rate</th>\n",
       "      <th>BMI</th>\n",
       "      <th>Weather Conditions</th>\n",
       "      <th>1 Intensity</th>\n",
       "    </tr>\n",
       "  </thead>\n",
       "  <tbody>\n",
       "    <tr>\n",
       "      <th>0</th>\n",
       "      <td>1</td>\n",
       "      <td>1 2</td>\n",
       "      <td>286.959851</td>\n",
       "      <td>91.892531</td>\n",
       "      <td>96.301115</td>\n",
       "      <td>45</td>\n",
       "      <td>Male</td>\n",
       "      <td>37</td>\n",
       "      <td>170</td>\n",
       "      <td>29.426275</td>\n",
       "      <td>Rainy</td>\n",
       "      <td>5</td>\n",
       "    </tr>\n",
       "    <tr>\n",
       "      <th>1</th>\n",
       "      <td>2</td>\n",
       "      <td>1 7</td>\n",
       "      <td>343.453036</td>\n",
       "      <td>64.165097</td>\n",
       "      <td>61.104668</td>\n",
       "      <td>25</td>\n",
       "      <td>Male</td>\n",
       "      <td>43</td>\n",
       "      <td>142</td>\n",
       "      <td>21.286346</td>\n",
       "      <td>Rainy</td>\n",
       "      <td>5</td>\n",
       "    </tr>\n",
       "    <tr>\n",
       "      <th>2</th>\n",
       "      <td>3</td>\n",
       "      <td>1 4</td>\n",
       "      <td>261.223465</td>\n",
       "      <td>70.846224</td>\n",
       "      <td>71.766724</td>\n",
       "      <td>20</td>\n",
       "      <td>Male</td>\n",
       "      <td>20</td>\n",
       "      <td>148</td>\n",
       "      <td>27.899592</td>\n",
       "      <td>Cloudy</td>\n",
       "      <td>4</td>\n",
       "    </tr>\n",
       "    <tr>\n",
       "      <th>3</th>\n",
       "      <td>4</td>\n",
       "      <td>1 5</td>\n",
       "      <td>127.183858</td>\n",
       "      <td>79.477008</td>\n",
       "      <td>82.984456</td>\n",
       "      <td>33</td>\n",
       "      <td>Male</td>\n",
       "      <td>39</td>\n",
       "      <td>170</td>\n",
       "      <td>33.729552</td>\n",
       "      <td>Sunny</td>\n",
       "      <td>10</td>\n",
       "    </tr>\n",
       "    <tr>\n",
       "      <th>4</th>\n",
       "      <td>5</td>\n",
       "      <td>1 10</td>\n",
       "      <td>416.318374</td>\n",
       "      <td>89.960226</td>\n",
       "      <td>85.643174</td>\n",
       "      <td>29</td>\n",
       "      <td>Female</td>\n",
       "      <td>34</td>\n",
       "      <td>118</td>\n",
       "      <td>23.286113</td>\n",
       "      <td>Cloudy</td>\n",
       "      <td>3</td>\n",
       "    </tr>\n",
       "  </tbody>\n",
       "</table>\n",
       "</div>"
      ],
      "text/plain": [
       "   ID     1  Calories Burn  Dream Weight  Actual Weight  Age  Gender  \\\n",
       "0   1   1 2     286.959851     91.892531      96.301115   45    Male   \n",
       "1   2   1 7     343.453036     64.165097      61.104668   25    Male   \n",
       "2   3   1 4     261.223465     70.846224      71.766724   20    Male   \n",
       "3   4   1 5     127.183858     79.477008      82.984456   33    Male   \n",
       "4   5  1 10     416.318374     89.960226      85.643174   29  Female   \n",
       "\n",
       "   Duration  Heart Rate        BMI Weather Conditions  1 Intensity  \n",
       "0        37         170  29.426275              Rainy            5  \n",
       "1        43         142  21.286346              Rainy            5  \n",
       "2        20         148  27.899592             Cloudy            4  \n",
       "3        39         170  33.729552              Sunny           10  \n",
       "4        34         118  23.286113             Cloudy            3  "
      ]
     },
     "execution_count": 4,
     "metadata": {},
     "output_type": "execute_result"
    }
   ],
   "source": [
    "df.head()"
   ]
  },
  {
   "cell_type": "code",
   "execution_count": 5,
   "id": "a18b37ef",
   "metadata": {},
   "outputs": [],
   "source": [
    "df.drop('ID',axis=1,inplace=True)"
   ]
  },
  {
   "cell_type": "code",
   "execution_count": 6,
   "id": "5d481d9a",
   "metadata": {},
   "outputs": [
    {
     "name": "stdout",
     "output_type": "stream",
     "text": [
      "<class 'pandas.core.frame.DataFrame'>\n",
      "RangeIndex: 3864 entries, 0 to 3863\n",
      "Data columns (total 11 columns):\n",
      " #   Column              Non-Null Count  Dtype  \n",
      "---  ------              --------------  -----  \n",
      " 0   1                   3864 non-null   object \n",
      " 1   Calories Burn       3864 non-null   float64\n",
      " 2   Dream Weight        3864 non-null   float64\n",
      " 3   Actual Weight       3864 non-null   float64\n",
      " 4   Age                 3864 non-null   int64  \n",
      " 5   Gender              3864 non-null   object \n",
      " 6   Duration            3864 non-null   int64  \n",
      " 7   Heart Rate          3864 non-null   int64  \n",
      " 8   BMI                 3864 non-null   float64\n",
      " 9   Weather Conditions  3864 non-null   object \n",
      " 10  1 Intensity         3864 non-null   int64  \n",
      "dtypes: float64(4), int64(4), object(3)\n",
      "memory usage: 332.2+ KB\n"
     ]
    }
   ],
   "source": [
    "df.info()"
   ]
  },
  {
   "cell_type": "code",
   "execution_count": 7,
   "id": "064c8276",
   "metadata": {},
   "outputs": [
    {
     "data": {
      "text/html": [
       "<div>\n",
       "<style scoped>\n",
       "    .dataframe tbody tr th:only-of-type {\n",
       "        vertical-align: middle;\n",
       "    }\n",
       "\n",
       "    .dataframe tbody tr th {\n",
       "        vertical-align: top;\n",
       "    }\n",
       "\n",
       "    .dataframe thead th {\n",
       "        text-align: right;\n",
       "    }\n",
       "</style>\n",
       "<table border=\"1\" class=\"dataframe\">\n",
       "  <thead>\n",
       "    <tr style=\"text-align: right;\">\n",
       "      <th></th>\n",
       "      <th>Calories Burn</th>\n",
       "      <th>Dream Weight</th>\n",
       "      <th>Actual Weight</th>\n",
       "      <th>Age</th>\n",
       "      <th>Duration</th>\n",
       "      <th>Heart Rate</th>\n",
       "      <th>BMI</th>\n",
       "      <th>1 Intensity</th>\n",
       "    </tr>\n",
       "  </thead>\n",
       "  <tbody>\n",
       "    <tr>\n",
       "      <th>count</th>\n",
       "      <td>3864.000000</td>\n",
       "      <td>3864.000000</td>\n",
       "      <td>3864.000000</td>\n",
       "      <td>3864.000000</td>\n",
       "      <td>3864.000000</td>\n",
       "      <td>3864.000000</td>\n",
       "      <td>3864.000000</td>\n",
       "      <td>3864.000000</td>\n",
       "    </tr>\n",
       "    <tr>\n",
       "      <th>mean</th>\n",
       "      <td>301.861806</td>\n",
       "      <td>75.139263</td>\n",
       "      <td>75.188440</td>\n",
       "      <td>39.621118</td>\n",
       "      <td>40.190994</td>\n",
       "      <td>139.777950</td>\n",
       "      <td>26.801977</td>\n",
       "      <td>5.457298</td>\n",
       "    </tr>\n",
       "    <tr>\n",
       "      <th>std</th>\n",
       "      <td>115.828604</td>\n",
       "      <td>14.545824</td>\n",
       "      <td>14.845511</td>\n",
       "      <td>12.521721</td>\n",
       "      <td>11.765957</td>\n",
       "      <td>23.447528</td>\n",
       "      <td>4.746745</td>\n",
       "      <td>2.850896</td>\n",
       "    </tr>\n",
       "    <tr>\n",
       "      <th>min</th>\n",
       "      <td>100.009403</td>\n",
       "      <td>50.001984</td>\n",
       "      <td>45.783747</td>\n",
       "      <td>18.000000</td>\n",
       "      <td>20.000000</td>\n",
       "      <td>100.000000</td>\n",
       "      <td>18.500014</td>\n",
       "      <td>1.000000</td>\n",
       "    </tr>\n",
       "    <tr>\n",
       "      <th>25%</th>\n",
       "      <td>202.168837</td>\n",
       "      <td>62.373585</td>\n",
       "      <td>62.476906</td>\n",
       "      <td>29.000000</td>\n",
       "      <td>30.000000</td>\n",
       "      <td>119.000000</td>\n",
       "      <td>22.686774</td>\n",
       "      <td>3.000000</td>\n",
       "    </tr>\n",
       "    <tr>\n",
       "      <th>50%</th>\n",
       "      <td>299.742508</td>\n",
       "      <td>75.522136</td>\n",
       "      <td>75.544407</td>\n",
       "      <td>40.000000</td>\n",
       "      <td>40.000000</td>\n",
       "      <td>140.000000</td>\n",
       "      <td>26.861656</td>\n",
       "      <td>5.000000</td>\n",
       "    </tr>\n",
       "    <tr>\n",
       "      <th>75%</th>\n",
       "      <td>404.143688</td>\n",
       "      <td>87.707989</td>\n",
       "      <td>88.105767</td>\n",
       "      <td>51.000000</td>\n",
       "      <td>51.000000</td>\n",
       "      <td>160.000000</td>\n",
       "      <td>30.950380</td>\n",
       "      <td>8.000000</td>\n",
       "    </tr>\n",
       "    <tr>\n",
       "      <th>max</th>\n",
       "      <td>499.859262</td>\n",
       "      <td>99.985355</td>\n",
       "      <td>104.309600</td>\n",
       "      <td>60.000000</td>\n",
       "      <td>60.000000</td>\n",
       "      <td>180.000000</td>\n",
       "      <td>34.996639</td>\n",
       "      <td>10.000000</td>\n",
       "    </tr>\n",
       "  </tbody>\n",
       "</table>\n",
       "</div>"
      ],
      "text/plain": [
       "       Calories Burn  Dream Weight  Actual Weight          Age     Duration  \\\n",
       "count    3864.000000   3864.000000    3864.000000  3864.000000  3864.000000   \n",
       "mean      301.861806     75.139263      75.188440    39.621118    40.190994   \n",
       "std       115.828604     14.545824      14.845511    12.521721    11.765957   \n",
       "min       100.009403     50.001984      45.783747    18.000000    20.000000   \n",
       "25%       202.168837     62.373585      62.476906    29.000000    30.000000   \n",
       "50%       299.742508     75.522136      75.544407    40.000000    40.000000   \n",
       "75%       404.143688     87.707989      88.105767    51.000000    51.000000   \n",
       "max       499.859262     99.985355     104.309600    60.000000    60.000000   \n",
       "\n",
       "        Heart Rate          BMI  1 Intensity  \n",
       "count  3864.000000  3864.000000  3864.000000  \n",
       "mean    139.777950    26.801977     5.457298  \n",
       "std      23.447528     4.746745     2.850896  \n",
       "min     100.000000    18.500014     1.000000  \n",
       "25%     119.000000    22.686774     3.000000  \n",
       "50%     140.000000    26.861656     5.000000  \n",
       "75%     160.000000    30.950380     8.000000  \n",
       "max     180.000000    34.996639    10.000000  "
      ]
     },
     "execution_count": 7,
     "metadata": {},
     "output_type": "execute_result"
    }
   ],
   "source": [
    "df.describe()"
   ]
  },
  {
   "cell_type": "code",
   "execution_count": 9,
   "id": "e7c9d35d",
   "metadata": {},
   "outputs": [
    {
     "data": {
      "text/plain": [
       "array(['1 2', '1 7', '1 4', '1 5', '1 10', '1 1', '1 9', '1 8', '1 6',\n",
       "       '1 3'], dtype=object)"
      ]
     },
     "execution_count": 9,
     "metadata": {},
     "output_type": "execute_result"
    }
   ],
   "source": [
    "df['1'].unique()"
   ]
  },
  {
   "cell_type": "code",
   "execution_count": 10,
   "id": "4c49e533",
   "metadata": {},
   "outputs": [],
   "source": [
    "df.rename(columns={'Weather Conditions':'Weather'},inplace=True)"
   ]
  },
  {
   "cell_type": "code",
   "execution_count": 11,
   "id": "3d63e493",
   "metadata": {},
   "outputs": [
    {
     "data": {
      "text/html": [
       "<div>\n",
       "<style scoped>\n",
       "    .dataframe tbody tr th:only-of-type {\n",
       "        vertical-align: middle;\n",
       "    }\n",
       "\n",
       "    .dataframe tbody tr th {\n",
       "        vertical-align: top;\n",
       "    }\n",
       "\n",
       "    .dataframe thead th {\n",
       "        text-align: right;\n",
       "    }\n",
       "</style>\n",
       "<table border=\"1\" class=\"dataframe\">\n",
       "  <thead>\n",
       "    <tr style=\"text-align: right;\">\n",
       "      <th></th>\n",
       "      <th>1</th>\n",
       "      <th>Calories Burn</th>\n",
       "      <th>Dream Weight</th>\n",
       "      <th>Actual Weight</th>\n",
       "      <th>Age</th>\n",
       "      <th>Gender</th>\n",
       "      <th>Duration</th>\n",
       "      <th>Heart Rate</th>\n",
       "      <th>BMI</th>\n",
       "      <th>Weather</th>\n",
       "      <th>1 Intensity</th>\n",
       "    </tr>\n",
       "  </thead>\n",
       "  <tbody>\n",
       "    <tr>\n",
       "      <th>0</th>\n",
       "      <td>1 2</td>\n",
       "      <td>286.959851</td>\n",
       "      <td>91.892531</td>\n",
       "      <td>96.301115</td>\n",
       "      <td>45</td>\n",
       "      <td>Male</td>\n",
       "      <td>37</td>\n",
       "      <td>170</td>\n",
       "      <td>29.426275</td>\n",
       "      <td>Rainy</td>\n",
       "      <td>5</td>\n",
       "    </tr>\n",
       "    <tr>\n",
       "      <th>1</th>\n",
       "      <td>1 7</td>\n",
       "      <td>343.453036</td>\n",
       "      <td>64.165097</td>\n",
       "      <td>61.104668</td>\n",
       "      <td>25</td>\n",
       "      <td>Male</td>\n",
       "      <td>43</td>\n",
       "      <td>142</td>\n",
       "      <td>21.286346</td>\n",
       "      <td>Rainy</td>\n",
       "      <td>5</td>\n",
       "    </tr>\n",
       "    <tr>\n",
       "      <th>2</th>\n",
       "      <td>1 4</td>\n",
       "      <td>261.223465</td>\n",
       "      <td>70.846224</td>\n",
       "      <td>71.766724</td>\n",
       "      <td>20</td>\n",
       "      <td>Male</td>\n",
       "      <td>20</td>\n",
       "      <td>148</td>\n",
       "      <td>27.899592</td>\n",
       "      <td>Cloudy</td>\n",
       "      <td>4</td>\n",
       "    </tr>\n",
       "    <tr>\n",
       "      <th>3</th>\n",
       "      <td>1 5</td>\n",
       "      <td>127.183858</td>\n",
       "      <td>79.477008</td>\n",
       "      <td>82.984456</td>\n",
       "      <td>33</td>\n",
       "      <td>Male</td>\n",
       "      <td>39</td>\n",
       "      <td>170</td>\n",
       "      <td>33.729552</td>\n",
       "      <td>Sunny</td>\n",
       "      <td>10</td>\n",
       "    </tr>\n",
       "    <tr>\n",
       "      <th>4</th>\n",
       "      <td>1 10</td>\n",
       "      <td>416.318374</td>\n",
       "      <td>89.960226</td>\n",
       "      <td>85.643174</td>\n",
       "      <td>29</td>\n",
       "      <td>Female</td>\n",
       "      <td>34</td>\n",
       "      <td>118</td>\n",
       "      <td>23.286113</td>\n",
       "      <td>Cloudy</td>\n",
       "      <td>3</td>\n",
       "    </tr>\n",
       "  </tbody>\n",
       "</table>\n",
       "</div>"
      ],
      "text/plain": [
       "      1  Calories Burn  Dream Weight  Actual Weight  Age  Gender  Duration  \\\n",
       "0   1 2     286.959851     91.892531      96.301115   45    Male        37   \n",
       "1   1 7     343.453036     64.165097      61.104668   25    Male        43   \n",
       "2   1 4     261.223465     70.846224      71.766724   20    Male        20   \n",
       "3   1 5     127.183858     79.477008      82.984456   33    Male        39   \n",
       "4  1 10     416.318374     89.960226      85.643174   29  Female        34   \n",
       "\n",
       "   Heart Rate        BMI Weather  1 Intensity  \n",
       "0         170  29.426275   Rainy            5  \n",
       "1         142  21.286346   Rainy            5  \n",
       "2         148  27.899592  Cloudy            4  \n",
       "3         170  33.729552   Sunny           10  \n",
       "4         118  23.286113  Cloudy            3  "
      ]
     },
     "execution_count": 11,
     "metadata": {},
     "output_type": "execute_result"
    }
   ],
   "source": [
    "df.head()"
   ]
  },
  {
   "cell_type": "code",
   "execution_count": 12,
   "id": "bd775c81",
   "metadata": {},
   "outputs": [
    {
     "name": "stderr",
     "output_type": "stream",
     "text": [
      "C:\\Users\\ayush\\AppData\\Local\\Temp\\ipykernel_21196\\167876959.py:1: FutureWarning: The default value of numeric_only in DataFrameGroupBy.mean is deprecated. In a future version, numeric_only will default to False. Either specify numeric_only or select only columns which should be valid for the function.\n",
      "  df.groupby(by='Gender').mean() #we have grouped by using 'Gender' columns values and calculated mean values by it\n"
     ]
    },
    {
     "data": {
      "text/html": [
       "<div>\n",
       "<style scoped>\n",
       "    .dataframe tbody tr th:only-of-type {\n",
       "        vertical-align: middle;\n",
       "    }\n",
       "\n",
       "    .dataframe tbody tr th {\n",
       "        vertical-align: top;\n",
       "    }\n",
       "\n",
       "    .dataframe thead th {\n",
       "        text-align: right;\n",
       "    }\n",
       "</style>\n",
       "<table border=\"1\" class=\"dataframe\">\n",
       "  <thead>\n",
       "    <tr style=\"text-align: right;\">\n",
       "      <th></th>\n",
       "      <th>Calories Burn</th>\n",
       "      <th>Dream Weight</th>\n",
       "      <th>Actual Weight</th>\n",
       "      <th>Age</th>\n",
       "      <th>Duration</th>\n",
       "      <th>Heart Rate</th>\n",
       "      <th>BMI</th>\n",
       "      <th>1 Intensity</th>\n",
       "    </tr>\n",
       "    <tr>\n",
       "      <th>Gender</th>\n",
       "      <th></th>\n",
       "      <th></th>\n",
       "      <th></th>\n",
       "      <th></th>\n",
       "      <th></th>\n",
       "      <th></th>\n",
       "      <th></th>\n",
       "      <th></th>\n",
       "    </tr>\n",
       "  </thead>\n",
       "  <tbody>\n",
       "    <tr>\n",
       "      <th>Female</th>\n",
       "      <td>305.079815</td>\n",
       "      <td>75.388762</td>\n",
       "      <td>75.428577</td>\n",
       "      <td>39.929226</td>\n",
       "      <td>40.216904</td>\n",
       "      <td>139.099796</td>\n",
       "      <td>26.776949</td>\n",
       "      <td>5.471996</td>\n",
       "    </tr>\n",
       "    <tr>\n",
       "      <th>Male</th>\n",
       "      <td>298.535402</td>\n",
       "      <td>74.881360</td>\n",
       "      <td>74.940214</td>\n",
       "      <td>39.302632</td>\n",
       "      <td>40.164211</td>\n",
       "      <td>140.478947</td>\n",
       "      <td>26.827848</td>\n",
       "      <td>5.442105</td>\n",
       "    </tr>\n",
       "  </tbody>\n",
       "</table>\n",
       "</div>"
      ],
      "text/plain": [
       "        Calories Burn  Dream Weight  Actual Weight        Age   Duration  \\\n",
       "Gender                                                                     \n",
       "Female     305.079815     75.388762      75.428577  39.929226  40.216904   \n",
       "Male       298.535402     74.881360      74.940214  39.302632  40.164211   \n",
       "\n",
       "        Heart Rate        BMI  1 Intensity  \n",
       "Gender                                      \n",
       "Female  139.099796  26.776949     5.471996  \n",
       "Male    140.478947  26.827848     5.442105  "
      ]
     },
     "execution_count": 12,
     "metadata": {},
     "output_type": "execute_result"
    }
   ],
   "source": [
    "df.groupby(by='Gender').mean() #we have grouped by using 'Gender' columns values and calculated mean values by it"
   ]
  },
  {
   "cell_type": "code",
   "execution_count": 14,
   "id": "aaca4783",
   "metadata": {},
   "outputs": [
    {
     "data": {
      "text/plain": [
       "1 5     404\n",
       "1 1     403\n",
       "1 10    398\n",
       "1 8     397\n",
       "1 9     394\n",
       "1 7     386\n",
       "1 3     385\n",
       "1 6     381\n",
       "1 4     371\n",
       "1 2     345\n",
       "Name: 1, dtype: int64"
      ]
     },
     "execution_count": 14,
     "metadata": {},
     "output_type": "execute_result"
    }
   ],
   "source": [
    "df['1'].value_counts()"
   ]
  },
  {
   "cell_type": "code",
   "execution_count": 15,
   "id": "ee3b74d9",
   "metadata": {},
   "outputs": [
    {
     "name": "stderr",
     "output_type": "stream",
     "text": [
      "C:\\Users\\ayush\\AppData\\Local\\Temp\\ipykernel_21196\\1131278770.py:1: FutureWarning: The default value of numeric_only in DataFrame.corr is deprecated. In a future version, it will default to False. Select only valid columns or specify the value of numeric_only to silence this warning.\n",
      "  sns.heatmap(df.corr(),cmap='magma',annot=True,fmt='.3f') #we calculated correlation about df's informations and colorizied it with seaborn.\n"
     ]
    },
    {
     "data": {
      "text/plain": [
       "<Axes: >"
      ]
     },
     "execution_count": 15,
     "metadata": {},
     "output_type": "execute_result"
    },
    {
     "data": {
      "image/png": "[encoded data removed]",
      "text/plain": [
       "<Figure size 640x480 with 2 Axes>"
      ]
     },
     "metadata": {},
     "output_type": "display_data"
    }
   ],
   "source": [
    "sns.heatmap(df.corr(),cmap='magma',annot=True,fmt='.3f') #we calculated correlation about df's informations and colorizied it with seaborn."
   ]
  },
  {
   "cell_type": "code",
   "execution_count": 16,
   "id": "753cc4da",
   "metadata": {},
   "outputs": [
    {
     "data": {
      "text/plain": [
       "(array([   2,   35,   65,  178,  233,  321,  347,  415,  427,  429,  484,\n",
       "         494,  501,  532,  593,  663,  673,  677,  742,  760,  787,  812,\n",
       "         843,  853,  883,  934,  953,  965,  987, 1018, 1021, 1048, 1081,\n",
       "        1082, 1109, 1114, 1270, 1493, 1533, 1557, 1592, 1604, 1608, 1616,\n",
       "        1626, 1737, 1786, 1799, 1951, 2018, 2041, 2119, 2140, 2154, 2160,\n",
       "        2188, 2217, 2227, 2291, 2319, 2321, 2324, 2353, 2368, 2371, 2412,\n",
       "        2425, 2439, 2500, 2698, 2708, 2776, 2834, 2836, 2850, 2860, 2907,\n",
       "        2910, 3170, 3411, 3444, 3469, 3502, 3647, 3670, 3719, 3749, 3801,\n",
       "        3853, 3859], dtype=int64),)"
      ]
     },
     "execution_count": 16,
     "metadata": {},
     "output_type": "execute_result"
    }
   ],
   "source": [
    "np.where(df['Age']==20) # we checked the 'Age' column's values where it is 20.\n"
   ]
  },
  {
   "cell_type": "code",
   "execution_count": 17,
   "id": "4d896239",
   "metadata": {},
   "outputs": [
    {
     "data": {
      "image/png": "[encoded data removed]",
      "text/plain": [
       "<Figure size 640x480 with 1 Axes>"
      ]
     },
     "metadata": {},
     "output_type": "display_data"
    }
   ],
   "source": [
    "df['Age'].hist(bins=90)\n",
    "plt.xlabel('Age')\n",
    "plt.ylabel('Count')\n",
    "plt.title('Age Count on Histogram')\n",
    "plt.show()"
   ]
  },
  {
   "cell_type": "code",
   "execution_count": 18,
   "id": "16f019f1",
   "metadata": {},
   "outputs": [
    {
     "name": "stderr",
     "output_type": "stream",
     "text": [
      "C:\\Users\\ayush\\AppData\\Local\\Temp\\ipykernel_21196\\4052891312.py:1: FutureWarning: The default value of numeric_only in DataFrameGroupBy.mean is deprecated. In a future version, numeric_only will default to False. Either specify numeric_only or select only columns which should be valid for the function.\n",
      "  plt.bar(df.groupby(by='Gender').mean().index,df.groupby(by='Gender').mean().iloc[:,0],width=0.2)\n",
      "C:\\Users\\ayush\\AppData\\Local\\Temp\\ipykernel_21196\\4052891312.py:1: FutureWarning: The default value of numeric_only in DataFrameGroupBy.mean is deprecated. In a future version, numeric_only will default to False. Either specify numeric_only or select only columns which should be valid for the function.\n",
      "  plt.bar(df.groupby(by='Gender').mean().index,df.groupby(by='Gender').mean().iloc[:,0],width=0.2)\n"
     ]
    },
    {
     "data": {
      "image/png": "[encoded data removed]",
      "text/plain": [
       "<Figure size 640x480 with 1 Axes>"
      ]
     },
     "metadata": {},
     "output_type": "display_data"
    }
   ],
   "source": [
    "plt.bar(df.groupby(by='Gender').mean().index,df.groupby(by='Gender').mean().iloc[:,0],width=0.2)\n",
    "plt.xlabel('Gender')\n",
    "plt.ylabel('Calories Burn')\n",
    "plt.title('Calories Burn by Gender')\n",
    "plt.show()"
   ]
  },
  {
   "cell_type": "code",
   "execution_count": 20,
   "id": "0797b6c8",
   "metadata": {},
   "outputs": [
    {
     "data": {
      "image/png": "[encoded data removed]",
      "text/plain": [
       "<Figure size 1200x600 with 1 Axes>"
      ]
     },
     "metadata": {},
     "output_type": "display_data"
    }
   ],
   "source": [
    "plt.figure(figsize=(12,6))\n",
    "plt.pie(df[\"1\"].value_counts().values,labels=df[\"1\"].value_counts().index,autopct=\"%.02f%%\")\n",
    "plt.title(\"Exercise Ratio\")\n",
    "plt.show()"
   ]
  },
  {
   "cell_type": "code",
   "execution_count": 21,
   "id": "bad4a425",
   "metadata": {},
   "outputs": [
    {
     "name": "stderr",
     "output_type": "stream",
     "text": [
      "C:\\Users\\ayush\\AppData\\Local\\Temp\\ipykernel_21196\\2382623975.py:1: FutureWarning: The default value of numeric_only in DataFrameGroupBy.mean is deprecated. In a future version, numeric_only will default to False. Either specify numeric_only or select only columns which should be valid for the function.\n",
      "  df.groupby(by='Age').mean().head()\n"
     ]
    },
    {
     "data": {
      "text/html": [
       "<div>\n",
       "<style scoped>\n",
       "    .dataframe tbody tr th:only-of-type {\n",
       "        vertical-align: middle;\n",
       "    }\n",
       "\n",
       "    .dataframe tbody tr th {\n",
       "        vertical-align: top;\n",
       "    }\n",
       "\n",
       "    .dataframe thead th {\n",
       "        text-align: right;\n",
       "    }\n",
       "</style>\n",
       "<table border=\"1\" class=\"dataframe\">\n",
       "  <thead>\n",
       "    <tr style=\"text-align: right;\">\n",
       "      <th></th>\n",
       "      <th>Calories Burn</th>\n",
       "      <th>Dream Weight</th>\n",
       "      <th>Actual Weight</th>\n",
       "      <th>Duration</th>\n",
       "      <th>Heart Rate</th>\n",
       "      <th>BMI</th>\n",
       "      <th>1 Intensity</th>\n",
       "    </tr>\n",
       "    <tr>\n",
       "      <th>Age</th>\n",
       "      <th></th>\n",
       "      <th></th>\n",
       "      <th></th>\n",
       "      <th></th>\n",
       "      <th></th>\n",
       "      <th></th>\n",
       "      <th></th>\n",
       "    </tr>\n",
       "  </thead>\n",
       "  <tbody>\n",
       "    <tr>\n",
       "      <th>18</th>\n",
       "      <td>295.008797</td>\n",
       "      <td>74.278790</td>\n",
       "      <td>74.638901</td>\n",
       "      <td>38.069767</td>\n",
       "      <td>135.988372</td>\n",
       "      <td>27.757458</td>\n",
       "      <td>5.186047</td>\n",
       "    </tr>\n",
       "    <tr>\n",
       "      <th>19</th>\n",
       "      <td>313.298650</td>\n",
       "      <td>73.198034</td>\n",
       "      <td>72.847620</td>\n",
       "      <td>42.478723</td>\n",
       "      <td>143.223404</td>\n",
       "      <td>27.020834</td>\n",
       "      <td>4.670213</td>\n",
       "    </tr>\n",
       "    <tr>\n",
       "      <th>20</th>\n",
       "      <td>304.050345</td>\n",
       "      <td>77.553701</td>\n",
       "      <td>77.470319</td>\n",
       "      <td>38.355556</td>\n",
       "      <td>140.333333</td>\n",
       "      <td>26.684299</td>\n",
       "      <td>5.888889</td>\n",
       "    </tr>\n",
       "    <tr>\n",
       "      <th>21</th>\n",
       "      <td>306.575217</td>\n",
       "      <td>75.702047</td>\n",
       "      <td>75.840851</td>\n",
       "      <td>40.784946</td>\n",
       "      <td>139.860215</td>\n",
       "      <td>26.825321</td>\n",
       "      <td>5.419355</td>\n",
       "    </tr>\n",
       "    <tr>\n",
       "      <th>22</th>\n",
       "      <td>314.764680</td>\n",
       "      <td>74.555833</td>\n",
       "      <td>74.470249</td>\n",
       "      <td>43.333333</td>\n",
       "      <td>142.233333</td>\n",
       "      <td>26.397697</td>\n",
       "      <td>5.966667</td>\n",
       "    </tr>\n",
       "  </tbody>\n",
       "</table>\n",
       "</div>"
      ],
      "text/plain": [
       "     Calories Burn  Dream Weight  Actual Weight   Duration  Heart Rate  \\\n",
       "Age                                                                      \n",
       "18      295.008797     74.278790      74.638901  38.069767  135.988372   \n",
       "19      313.298650     73.198034      72.847620  42.478723  143.223404   \n",
       "20      304.050345     77.553701      77.470319  38.355556  140.333333   \n",
       "21      306.575217     75.702047      75.840851  40.784946  139.860215   \n",
       "22      314.764680     74.555833      74.470249  43.333333  142.233333   \n",
       "\n",
       "           BMI  1 Intensity  \n",
       "Age                          \n",
       "18   27.757458     5.186047  \n",
       "19   27.020834     4.670213  \n",
       "20   26.684299     5.888889  \n",
       "21   26.825321     5.419355  \n",
       "22   26.397697     5.966667  "
      ]
     },
     "execution_count": 21,
     "metadata": {},
     "output_type": "execute_result"
    }
   ],
   "source": [
    "df.groupby(by='Age').mean().head()"
   ]
  },
  {
   "cell_type": "code",
   "execution_count": 23,
   "id": "1a1a0e60",
   "metadata": {},
   "outputs": [
    {
     "name": "stderr",
     "output_type": "stream",
     "text": [
      "C:\\Users\\ayush\\AppData\\Local\\Temp\\ipykernel_21196\\3341589914.py:1: FutureWarning: The default value of numeric_only in DataFrameGroupBy.mean is deprecated. In a future version, numeric_only will default to False. Either specify numeric_only or select only columns which should be valid for the function.\n",
      "  plt.scatter(df.groupby(by='1').mean().iloc[:,0], df.groupby(by='1').mean().iloc[:,2],  color='red',marker='s')\n",
      "C:\\Users\\ayush\\AppData\\Local\\Temp\\ipykernel_21196\\3341589914.py:1: FutureWarning: The default value of numeric_only in DataFrameGroupBy.mean is deprecated. In a future version, numeric_only will default to False. Either specify numeric_only or select only columns which should be valid for the function.\n",
      "  plt.scatter(df.groupby(by='1').mean().iloc[:,0], df.groupby(by='1').mean().iloc[:,2],  color='red',marker='s')\n"
     ]
    },
    {
     "data": {
      "image/png": "[encoded data removed]",
      "text/plain": [
       "<Figure size 640x480 with 1 Axes>"
      ]
     },
     "metadata": {},
     "output_type": "display_data"
    }
   ],
   "source": [
    "plt.scatter(df.groupby(by='1').mean().iloc[:,0], df.groupby(by='1').mean().iloc[:,2],  color='red',marker='s')\n",
    "plt.xlabel(\"Mean Calories Burn by Exercise\")\n",
    "plt.ylabel(\"Mean Actual Weight by Exercise\")\n",
    "plt.title('Calories Burn and Actual Weight Relation')\n",
    "plt.show()"
   ]
  },
  {
   "cell_type": "code",
   "execution_count": 24,
   "id": "6571a32e",
   "metadata": {},
   "outputs": [
    {
     "name": "stderr",
     "output_type": "stream",
     "text": [
      "C:\\Users\\ayush\\AppData\\Local\\Temp\\ipykernel_21196\\505473970.py:1: FutureWarning: The default value of numeric_only in DataFrameGroupBy.mean is deprecated. In a future version, numeric_only will default to False. Either specify numeric_only or select only columns which should be valid for the function.\n",
      "  plt.scatter(df.groupby(by='1').mean().iloc[:,0], df.groupby(by='1').mean().iloc[:,6],color='blue',marker='x')\n",
      "C:\\Users\\ayush\\AppData\\Local\\Temp\\ipykernel_21196\\505473970.py:1: FutureWarning: The default value of numeric_only in DataFrameGroupBy.mean is deprecated. In a future version, numeric_only will default to False. Either specify numeric_only or select only columns which should be valid for the function.\n",
      "  plt.scatter(df.groupby(by='1').mean().iloc[:,0], df.groupby(by='1').mean().iloc[:,6],color='blue',marker='x')\n"
     ]
    },
    {
     "data": {
      "image/png": "[encoded data removed]",
      "text/plain": [
       "<Figure size 640x480 with 1 Axes>"
      ]
     },
     "metadata": {},
     "output_type": "display_data"
    }
   ],
   "source": [
    "plt.scatter(df.groupby(by='1').mean().iloc[:,0], df.groupby(by='1').mean().iloc[:,6],color='blue',marker='x')\n",
    "plt.xlabel(\"Mean Calories Burn by Exercise\")\n",
    "plt.ylabel(\"Mean BMI by Exercise\")\n",
    "plt.title('Calories Burn and BMI Relation')\n",
    "plt.show()"
   ]
  },
  {
   "cell_type": "code",
   "execution_count": 28,
   "id": "c3d9b950",
   "metadata": {},
   "outputs": [
    {
     "name": "stderr",
     "output_type": "stream",
     "text": [
      "C:\\Users\\ayush\\AppData\\Local\\Temp\\ipykernel_21196\\2700996738.py:1: FutureWarning: Passing a set as an indexer is deprecated and will raise in a future version. Use a list instead.\n",
      "  df1 = pd.get_dummies(df,columns={'Gender','Weather','1'},drop_first=True)\n"
     ]
    }
   ],
   "source": [
    "df1 = pd.get_dummies(df,columns={'Gender','Weather','1'},drop_first=True)"
   ]
  },
  {
   "cell_type": "code",
   "execution_count": 29,
   "id": "cd02dd20",
   "metadata": {},
   "outputs": [
    {
     "data": {
      "text/html": [
       "<div>\n",
       "<style scoped>\n",
       "    .dataframe tbody tr th:only-of-type {\n",
       "        vertical-align: middle;\n",
       "    }\n",
       "\n",
       "    .dataframe tbody tr th {\n",
       "        vertical-align: top;\n",
       "    }\n",
       "\n",
       "    .dataframe thead th {\n",
       "        text-align: right;\n",
       "    }\n",
       "</style>\n",
       "<table border=\"1\" class=\"dataframe\">\n",
       "  <thead>\n",
       "    <tr style=\"text-align: right;\">\n",
       "      <th></th>\n",
       "      <th>Calories Burn</th>\n",
       "      <th>Dream Weight</th>\n",
       "      <th>Actual Weight</th>\n",
       "      <th>Age</th>\n",
       "      <th>Duration</th>\n",
       "      <th>Heart Rate</th>\n",
       "      <th>BMI</th>\n",
       "      <th>1 Intensity</th>\n",
       "      <th>Gender_Male</th>\n",
       "      <th>1_1 10</th>\n",
       "      <th>1_1 2</th>\n",
       "      <th>1_1 3</th>\n",
       "      <th>1_1 4</th>\n",
       "      <th>1_1 5</th>\n",
       "      <th>1_1 6</th>\n",
       "      <th>1_1 7</th>\n",
       "      <th>1_1 8</th>\n",
       "      <th>1_1 9</th>\n",
       "      <th>Weather_Rainy</th>\n",
       "      <th>Weather_Sunny</th>\n",
       "    </tr>\n",
       "  </thead>\n",
       "  <tbody>\n",
       "    <tr>\n",
       "      <th>0</th>\n",
       "      <td>286.959851</td>\n",
       "      <td>91.892531</td>\n",
       "      <td>96.301115</td>\n",
       "      <td>45</td>\n",
       "      <td>37</td>\n",
       "      <td>170</td>\n",
       "      <td>29.426275</td>\n",
       "      <td>5</td>\n",
       "      <td>1</td>\n",
       "      <td>0</td>\n",
       "      <td>1</td>\n",
       "      <td>0</td>\n",
       "      <td>0</td>\n",
       "      <td>0</td>\n",
       "      <td>0</td>\n",
       "      <td>0</td>\n",
       "      <td>0</td>\n",
       "      <td>0</td>\n",
       "      <td>1</td>\n",
       "      <td>0</td>\n",
       "    </tr>\n",
       "    <tr>\n",
       "      <th>1</th>\n",
       "      <td>343.453036</td>\n",
       "      <td>64.165097</td>\n",
       "      <td>61.104668</td>\n",
       "      <td>25</td>\n",
       "      <td>43</td>\n",
       "      <td>142</td>\n",
       "      <td>21.286346</td>\n",
       "      <td>5</td>\n",
       "      <td>1</td>\n",
       "      <td>0</td>\n",
       "      <td>0</td>\n",
       "      <td>0</td>\n",
       "      <td>0</td>\n",
       "      <td>0</td>\n",
       "      <td>0</td>\n",
       "      <td>1</td>\n",
       "      <td>0</td>\n",
       "      <td>0</td>\n",
       "      <td>1</td>\n",
       "      <td>0</td>\n",
       "    </tr>\n",
       "    <tr>\n",
       "      <th>2</th>\n",
       "      <td>261.223465</td>\n",
       "      <td>70.846224</td>\n",
       "      <td>71.766724</td>\n",
       "      <td>20</td>\n",
       "      <td>20</td>\n",
       "      <td>148</td>\n",
       "      <td>27.899592</td>\n",
       "      <td>4</td>\n",
       "      <td>1</td>\n",
       "      <td>0</td>\n",
       "      <td>0</td>\n",
       "      <td>0</td>\n",
       "      <td>1</td>\n",
       "      <td>0</td>\n",
       "      <td>0</td>\n",
       "      <td>0</td>\n",
       "      <td>0</td>\n",
       "      <td>0</td>\n",
       "      <td>0</td>\n",
       "      <td>0</td>\n",
       "    </tr>\n",
       "    <tr>\n",
       "      <th>3</th>\n",
       "      <td>127.183858</td>\n",
       "      <td>79.477008</td>\n",
       "      <td>82.984456</td>\n",
       "      <td>33</td>\n",
       "      <td>39</td>\n",
       "      <td>170</td>\n",
       "      <td>33.729552</td>\n",
       "      <td>10</td>\n",
       "      <td>1</td>\n",
       "      <td>0</td>\n",
       "      <td>0</td>\n",
       "      <td>0</td>\n",
       "      <td>0</td>\n",
       "      <td>1</td>\n",
       "      <td>0</td>\n",
       "      <td>0</td>\n",
       "      <td>0</td>\n",
       "      <td>0</td>\n",
       "      <td>0</td>\n",
       "      <td>1</td>\n",
       "    </tr>\n",
       "    <tr>\n",
       "      <th>4</th>\n",
       "      <td>416.318374</td>\n",
       "      <td>89.960226</td>\n",
       "      <td>85.643174</td>\n",
       "      <td>29</td>\n",
       "      <td>34</td>\n",
       "      <td>118</td>\n",
       "      <td>23.286113</td>\n",
       "      <td>3</td>\n",
       "      <td>0</td>\n",
       "      <td>1</td>\n",
       "      <td>0</td>\n",
       "      <td>0</td>\n",
       "      <td>0</td>\n",
       "      <td>0</td>\n",
       "      <td>0</td>\n",
       "      <td>0</td>\n",
       "      <td>0</td>\n",
       "      <td>0</td>\n",
       "      <td>0</td>\n",
       "      <td>0</td>\n",
       "    </tr>\n",
       "  </tbody>\n",
       "</table>\n",
       "</div>"
      ],
      "text/plain": [
       "   Calories Burn  Dream Weight  Actual Weight  Age  Duration  Heart Rate  \\\n",
       "0     286.959851     91.892531      96.301115   45        37         170   \n",
       "1     343.453036     64.165097      61.104668   25        43         142   \n",
       "2     261.223465     70.846224      71.766724   20        20         148   \n",
       "3     127.183858     79.477008      82.984456   33        39         170   \n",
       "4     416.318374     89.960226      85.643174   29        34         118   \n",
       "\n",
       "         BMI  1 Intensity  Gender_Male  1_1 10  1_1 2  1_1 3  1_1 4  1_1 5  \\\n",
       "0  29.426275            5            1       0      1      0      0      0   \n",
       "1  21.286346            5            1       0      0      0      0      0   \n",
       "2  27.899592            4            1       0      0      0      1      0   \n",
       "3  33.729552           10            1       0      0      0      0      1   \n",
       "4  23.286113            3            0       1      0      0      0      0   \n",
       "\n",
       "   1_1 6  1_1 7  1_1 8  1_1 9  Weather_Rainy  Weather_Sunny  \n",
       "0      0      0      0      0              1              0  \n",
       "1      0      1      0      0              1              0  \n",
       "2      0      0      0      0              0              0  \n",
       "3      0      0      0      0              0              1  \n",
       "4      0      0      0      0              0              0  "
      ]
     },
     "execution_count": 29,
     "metadata": {},
     "output_type": "execute_result"
    }
   ],
   "source": [
    "df1.head()"
   ]
  },
  {
   "cell_type": "code",
   "execution_count": 30,
   "id": "104e6897",
   "metadata": {},
   "outputs": [
    {
     "name": "stdout",
     "output_type": "stream",
     "text": [
      "<class 'pandas.core.frame.DataFrame'>\n",
      "RangeIndex: 3864 entries, 0 to 3863\n",
      "Data columns (total 20 columns):\n",
      " #   Column         Non-Null Count  Dtype  \n",
      "---  ------         --------------  -----  \n",
      " 0   Calories Burn  3864 non-null   float64\n",
      " 1   Dream Weight   3864 non-null   float64\n",
      " 2   Actual Weight  3864 non-null   float64\n",
      " 3   Age            3864 non-null   int64  \n",
      " 4   Duration       3864 non-null   int64  \n",
      " 5   Heart Rate     3864 non-null   int64  \n",
      " 6   BMI            3864 non-null   float64\n",
      " 7   1 Intensity    3864 non-null   int64  \n",
      " 8   Gender_Male    3864 non-null   uint8  \n",
      " 9   1_1 10         3864 non-null   uint8  \n",
      " 10  1_1 2          3864 non-null   uint8  \n",
      " 11  1_1 3          3864 non-null   uint8  \n",
      " 12  1_1 4          3864 non-null   uint8  \n",
      " 13  1_1 5          3864 non-null   uint8  \n",
      " 14  1_1 6          3864 non-null   uint8  \n",
      " 15  1_1 7          3864 non-null   uint8  \n",
      " 16  1_1 8          3864 non-null   uint8  \n",
      " 17  1_1 9          3864 non-null   uint8  \n",
      " 18  Weather_Rainy  3864 non-null   uint8  \n",
      " 19  Weather_Sunny  3864 non-null   uint8  \n",
      "dtypes: float64(4), int64(4), uint8(12)\n",
      "memory usage: 286.9 KB\n"
     ]
    }
   ],
   "source": [
    "df1.info()"
   ]
  },
  {
   "cell_type": "code",
   "execution_count": 31,
   "id": "42ee73a7",
   "metadata": {},
   "outputs": [],
   "source": [
    "x1 = df1.drop('Actual Weight',axis=1)\n",
    "y1 = df1['Actual Weight']"
   ]
  },
  {
   "cell_type": "code",
   "execution_count": 33,
   "id": "f368736b",
   "metadata": {},
   "outputs": [],
   "source": [
    "x_train,x_test,y_train,y_test = train_test_split(x1,y1,test_size=0.2,random_state=11)"
   ]
  },
  {
   "cell_type": "code",
   "execution_count": 34,
   "id": "b1c6decd",
   "metadata": {},
   "outputs": [
    {
     "data": {
      "text/plain": [
       "0.9639775760708389"
      ]
     },
     "execution_count": 34,
     "metadata": {},
     "output_type": "execute_result"
    }
   ],
   "source": [
    "reg = LinearRegression()\n",
    "model = reg.fit(x_train,y_train)\n",
    "y_score = model.score(x_test,y_test)\n",
    "y_score"
   ]
  },
  {
   "cell_type": "code",
   "execution_count": 35,
   "id": "2e0bc3e8",
   "metadata": {},
   "outputs": [
    {
     "data": {
      "text/plain": [
       "0.8891934610070393"
      ]
     },
     "execution_count": 35,
     "metadata": {},
     "output_type": "execute_result"
    }
   ],
   "source": [
    "model.intercept_ # we call the constant term"
   ]
  },
  {
   "cell_type": "code",
   "execution_count": 36,
   "id": "35eb700e",
   "metadata": {},
   "outputs": [
    {
     "data": {
      "text/plain": [
       "array([-7.81233275e-05,  1.00114960e+00, -5.07836710e-03,  2.85523613e-03,\n",
       "        4.58226529e-04, -2.23414292e-02, -1.22891489e-02, -2.18750448e-02,\n",
       "       -4.06524234e-01, -1.91365411e-01, -2.98692608e-01, -2.90810409e-01,\n",
       "       -2.14804067e-01,  2.62429914e-02, -4.97826631e-02, -3.22675978e-01,\n",
       "       -5.02029196e-01, -5.46882094e-02,  5.27212953e-02])"
      ]
     },
     "execution_count": 36,
     "metadata": {},
     "output_type": "execute_result"
    }
   ],
   "source": [
    "model.coef_ #we call independent variables's coefficents."
   ]
  },
  {
   "cell_type": "code",
   "execution_count": 37,
   "id": "8cc8f4ce",
   "metadata": {},
   "outputs": [],
   "source": [
    "y_pred = model.predict(x_test)"
   ]
  },
  {
   "cell_type": "code",
   "execution_count": 38,
   "id": "a5e6840c",
   "metadata": {},
   "outputs": [
    {
     "data": {
      "text/plain": [
       "2.85505257756364"
      ]
     },
     "execution_count": 38,
     "metadata": {},
     "output_type": "execute_result"
    }
   ],
   "source": [
    "np.sqrt(mean_squared_error(y_train,model.predict(x_train)))"
   ]
  },
  {
   "cell_type": "code",
   "execution_count": 39,
   "id": "61f1151d",
   "metadata": {},
   "outputs": [
    {
     "data": {
      "text/plain": [
       "2.8071574889849606"
      ]
     },
     "execution_count": 39,
     "metadata": {},
     "output_type": "execute_result"
    }
   ],
   "source": [
    "np.sqrt(mean_squared_error(y_test,model.predict(x_test)))"
   ]
  },
  {
   "cell_type": "code",
   "execution_count": 40,
   "id": "574c1bfa",
   "metadata": {},
   "outputs": [
    {
     "data": {
      "text/plain": [
       "0.9628182532145317"
      ]
     },
     "execution_count": 40,
     "metadata": {},
     "output_type": "execute_result"
    }
   ],
   "source": [
    "cross_val_score(model, x1, y1, cv=10, scoring='r2').mean()\n"
   ]
  },
  {
   "cell_type": "code",
   "execution_count": 41,
   "id": "24009c9e",
   "metadata": {},
   "outputs": [
    {
     "data": {
      "text/plain": [
       "0.9624233697104912"
      ]
     },
     "execution_count": 41,
     "metadata": {},
     "output_type": "execute_result"
    }
   ],
   "source": [
    "cross_val_score(model, x_train, y_train, cv=10, scoring='r2').mean()\n"
   ]
  },
  {
   "cell_type": "code",
   "execution_count": 42,
   "id": "4ac17532",
   "metadata": {},
   "outputs": [
    {
     "data": {
      "text/plain": [
       "2.873902601528872"
      ]
     },
     "execution_count": 42,
     "metadata": {},
     "output_type": "execute_result"
    }
   ],
   "source": [
    "np.sqrt(-cross_val_score(model, x_train, y_train, cv=10, scoring='neg_mean_squared_error')).mean()"
   ]
  },
  {
   "cell_type": "code",
   "execution_count": 43,
   "id": "f6ad7d37",
   "metadata": {},
   "outputs": [
    {
     "data": {
      "text/plain": [
       "2.836630806241"
      ]
     },
     "execution_count": 43,
     "metadata": {},
     "output_type": "execute_result"
    }
   ],
   "source": [
    "np.sqrt(-cross_val_score(model, x_test, y_test, cv=10, scoring='neg_mean_squared_error')).mean()"
   ]
  },
  {
   "cell_type": "code",
   "execution_count": 47,
   "id": "6262499b",
   "metadata": {},
   "outputs": [],
   "source": [
    "scaler = StandardScaler()\n",
    "X_train_scaled = scaler.fit_transform(x_train)\n",
    "X_test_scaled = scaler.transform(x_test)\n"
   ]
  },
  {
   "cell_type": "code",
   "execution_count": 57,
   "id": "0b78c6af",
   "metadata": {},
   "outputs": [
    {
     "ename": "SyntaxError",
     "evalue": "invalid non-printable character U+00A0 (101715032.py, line 7)",
     "output_type": "error",
     "traceback": [
      "\u001b[1;36m  Cell \u001b[1;32mIn[57], line 7\u001b[1;36m\u001b[0m\n\u001b[1;33m    print(\"Random Forest Accuracy:\", rf_accuracy)\u001b[0m\n\u001b[1;37m                                    ^\u001b[0m\n\u001b[1;31mSyntaxError\u001b[0m\u001b[1;31m:\u001b[0m invalid non-printable character U+00A0\n"
     ]
    }
   ],
   "source": [
    "# Random Forest\n",
    "rf_model = RandomForestClassifier()\n",
    "rf_model.fit(X_train_scaled, y_train)\n",
    "rf_predictions = rf_model.predict(X_test_scaled)\n",
    "rf_accuracy = accuracy_score(y_test, rf_predictions)\n",
    "\n",
    "print(\"Random Forest Accuracy:\", rf_accuracy)"
   ]
  },
  {
   "cell_type": "code",
   "execution_count": null,
   "id": "9531701e",
   "metadata": {},
   "outputs": [],
   "source": []
  }
 ],
 "metadata": {
  "kernelspec": {
   "display_name": "Python 3 (ipykernel)",
   "language": "python",
   "name": "python3"
  },
  "language_info": {
   "codemirror_mode": {
    "name": "ipython",
    "version": 3
   },
   "file_extension": ".py",
   "mimetype": "text/x-python",
   "name": "python",
   "nbconvert_exporter": "python",
   "pygments_lexer": "ipython3",
   "version": "3.11.3"
  }
 },
 "nbformat": 4,
 "nbformat_minor": 5
}
